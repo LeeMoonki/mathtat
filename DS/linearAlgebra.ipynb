{
 "cells": [
  {
   "cell_type": "code",
   "execution_count": 2,
   "metadata": {},
   "outputs": [],
   "source": [
    "import numpy as np\n",
    "import matplotlib.pylab as plt"
   ]
  },
  {
   "cell_type": "code",
   "execution_count": 3,
   "metadata": {},
   "outputs": [
    {
     "name": "stdout",
     "output_type": "stream",
     "text": [
      "[[11 12 13]\n",
      " [21 22 23]]\n",
      "[[11 21]\n",
      " [12 22]\n",
      " [13 23]]\n"
     ]
    }
   ],
   "source": [
    "# Transpose\n",
    "A = np.array([[11, 12, 13], [21, 22, 23]])\n",
    "AT = A.T\n",
    "print(A)\n",
    "print(AT)"
   ]
  },
  {
   "cell_type": "code",
   "execution_count": 4,
   "metadata": {},
   "outputs": [
    {
     "data": {
      "text/plain": [
       "array([[0.],\n",
       "       [0.],\n",
       "       [0.]])"
      ]
     },
     "execution_count": 4,
     "metadata": {},
     "output_type": "execute_result"
    }
   ],
   "source": [
    "# zero-vector\n",
    "np.zeros((3, 1))"
   ]
  },
  {
   "cell_type": "code",
   "execution_count": 5,
   "metadata": {},
   "outputs": [
    {
     "data": {
      "text/plain": [
       "array([[1.],\n",
       "       [1.],\n",
       "       [1.]])"
      ]
     },
     "execution_count": 5,
     "metadata": {},
     "output_type": "execute_result"
    }
   ],
   "source": [
    "# ones-vector\n",
    "np.ones((3, 1))"
   ]
  },
  {
   "cell_type": "code",
   "execution_count": 6,
   "metadata": {},
   "outputs": [
    {
     "data": {
      "text/plain": [
       "array([[1, 0, 0],\n",
       "       [0, 2, 0],\n",
       "       [0, 0, 3]])"
      ]
     },
     "execution_count": 6,
     "metadata": {},
     "output_type": "execute_result"
    }
   ],
   "source": [
    "# diagonal matrix\n",
    "np.diag([1, 2, 3])"
   ]
  },
  {
   "cell_type": "code",
   "execution_count": 7,
   "metadata": {},
   "outputs": [
    {
     "data": {
      "text/plain": [
       "array([[1., 0., 0., 0.],\n",
       "       [0., 1., 0., 0.],\n",
       "       [0., 0., 1., 0.],\n",
       "       [0., 0., 0., 1.]])"
      ]
     },
     "execution_count": 7,
     "metadata": {},
     "output_type": "execute_result"
    }
   ],
   "source": [
    "# identity matrix\n",
    "np.eye(4) # or np.identity(4)"
   ]
  },
  {
   "cell_type": "code",
   "execution_count": 8,
   "metadata": {},
   "outputs": [],
   "source": [
    "vx = np.array([[10], [11], [12]]) # vector x\n",
    "vy = np.array([[1], [2], [3]]) # vector y\n",
    "x = np.array([[10, 11], [20, 21]]) # matrix x\n",
    "y = np.array([[1, 2], [3, 4]]) # matrix y"
   ]
  },
  {
   "cell_type": "code",
   "execution_count": 9,
   "metadata": {},
   "outputs": [
    {
     "name": "stdout",
     "output_type": "stream",
     "text": [
      "vx + vy : \n",
      " [[11]\n",
      " [13]\n",
      " [15]]\n",
      "x + y : \n",
      " [[11 13]\n",
      " [23 25]]\n"
     ]
    }
   ],
   "source": [
    "# matrix addition\n",
    "print('vx + vy : \\n', vx + vy)\n",
    "print('x + y : \\n', x + y)"
   ]
  },
  {
   "cell_type": "code",
   "execution_count": 10,
   "metadata": {},
   "outputs": [
    {
     "data": {
      "text/plain": [
       "array([[20],\n",
       "       [21],\n",
       "       [22]])"
      ]
     },
     "execution_count": 10,
     "metadata": {},
     "output_type": "execute_result"
    }
   ],
   "source": [
    "# broadcasting : addition between vector and scalar\n",
    "vx + 10 # equals vx + (10 * np.ones((3, 1)))"
   ]
  },
  {
   "cell_type": "code",
   "execution_count": 11,
   "metadata": {},
   "outputs": [
    {
     "data": {
      "text/plain": [
       "array([[68]])"
      ]
     },
     "execution_count": 11,
     "metadata": {},
     "output_type": "execute_result"
    }
   ],
   "source": [
    "# dot product (벡터 내적)\n",
    "vx.T @ vy"
   ]
  },
  {
   "cell_type": "code",
   "execution_count": 10,
   "metadata": {},
   "outputs": [
    {
     "data": {
      "text/plain": [
       "array([[32]])"
      ]
     },
     "execution_count": 10,
     "metadata": {},
     "output_type": "execute_result"
    }
   ],
   "source": [
    "# dot product with one dimension arrays (벡터 내적)\n",
    "vx1 = np.array([[1], [2], [3]])\n",
    "vy1 = np.array([[4], [5], [6]])\n",
    "\n",
    "vx1.T @ vy1"
   ]
  },
  {
   "cell_type": "code",
   "execution_count": 13,
   "metadata": {},
   "outputs": [
    {
     "data": {
      "text/plain": [
       "array([[2973.]])"
      ]
     },
     "execution_count": 13,
     "metadata": {},
     "output_type": "execute_result"
    }
   ],
   "source": [
    "# weighted sum(가중평균)\n",
    "w = np.array([[0.3], [0.7], [0.9], [0.2]])\n",
    "x1 = np.array([[10], [100], [1000], [10000]])\n",
    "\n",
    "w.T @ x1"
   ]
  },
  {
   "cell_type": "code",
   "execution_count": 14,
   "metadata": {},
   "outputs": [
    {
     "data": {
      "text/plain": [
       "4.5"
      ]
     },
     "execution_count": 14,
     "metadata": {},
     "output_type": "execute_result"
    }
   ],
   "source": [
    "# 벡터의 평균\n",
    "x2 = np.arange(10)\n",
    "N = len(x2)\n",
    "\n",
    "(np.ones(N) @ x2) / N"
   ]
  },
  {
   "cell_type": "code",
   "execution_count": 15,
   "metadata": {},
   "outputs": [
    {
     "data": {
      "text/plain": [
       "4.5"
      ]
     },
     "execution_count": 15,
     "metadata": {},
     "output_type": "execute_result"
    }
   ],
   "source": [
    "# 벡터의 평균\n",
    "np.mean(x2)"
   ]
  },
  {
   "cell_type": "code",
   "execution_count": 16,
   "metadata": {},
   "outputs": [
    {
     "data": {
      "text/plain": [
       "array([-2., -1.,  0.,  1.,  2.])"
      ]
     },
     "execution_count": 16,
     "metadata": {},
     "output_type": "execute_result"
    }
   ],
   "source": [
    "# 평균제거(mean removed) 혹은 0-평균(zero-mean) 벡터\n",
    "# : 벡터에서 벡터의 평균을 뺀 벡터\n",
    "x3 = np.array([0, 1, 2, 3, 4])\n",
    "N = len(x3)\n",
    "\n",
    "x3 - ((np.ones(N).T @ x3 * np.ones(N)) / N)"
   ]
  },
  {
   "cell_type": "code",
   "execution_count": 17,
   "metadata": {},
   "outputs": [
    {
     "data": {
      "text/plain": [
       "array([-2., -1.,  0.,  1.,  2.])"
      ]
     },
     "execution_count": 17,
     "metadata": {},
     "output_type": "execute_result"
    }
   ],
   "source": [
    "x3 - np.mean(x3)"
   ]
  },
  {
   "cell_type": "code",
   "execution_count": 11,
   "metadata": {},
   "outputs": [
    {
     "data": {
      "text/plain": [
       "array([3., 4., 5., 6.])"
      ]
     },
     "execution_count": 11,
     "metadata": {},
     "output_type": "execute_result"
    }
   ],
   "source": [
    "# 특정 행렬의 열의 평균으로 이루어진 벡터를 구한다\n",
    "\n",
    "x5 = np.array([[3, 4, 5, 6], [3, 4, 5, 6], [3, 4, 5, 6]])\n",
    "N = x5.shape[0]\n",
    "mvector = (x5.T @ np.ones(N)) / N\n",
    "\n",
    "mvector"
   ]
  },
  {
   "cell_type": "code",
   "execution_count": 20,
   "metadata": {},
   "outputs": [
    {
     "data": {
      "text/plain": [
       "array([[1, 1, 1],\n",
       "       [1, 1, 1],\n",
       "       [1, 1, 1]])"
      ]
     },
     "execution_count": 20,
     "metadata": {},
     "output_type": "execute_result"
    }
   ],
   "source": [
    "# 1N @ 1N.T\n",
    "\n",
    "N = 3\n",
    "one = np.array([[1], [1], [1]])\n",
    "\n",
    "oneN = one @ one.T\n",
    "\n",
    "oneN"
   ]
  },
  {
   "cell_type": "code",
   "execution_count": 27,
   "metadata": {},
   "outputs": [
    {
     "data": {
      "text/plain": [
       "array([[3., 4., 5., 6.],\n",
       "       [3., 4., 5., 6.],\n",
       "       [3., 4., 5., 6.]])"
      ]
     },
     "execution_count": 27,
     "metadata": {},
     "output_type": "execute_result"
    }
   ],
   "source": [
    "# 위에있는 mvector(mvector in R(M))가 각 행으로 이루어진(mvector.T) 행렬 (Xbar in R(NxM))\n",
    "\n",
    "x = np.array([[3, 4, 5, 6], [3, 4, 5, 6], [3, 4, 5, 6]])\n",
    "one = np.array([[1], [1], [1]])\n",
    "oneN = one @ one.T\n",
    "\n",
    "Xbar = (oneN @ x) / 3\n",
    "\n",
    "Xbar"
   ]
  },
  {
   "cell_type": "code",
   "execution_count": 37,
   "metadata": {},
   "outputs": [
    {
     "data": {
      "text/plain": [
       "array([[1, 4, 7],\n",
       "       [2, 5, 8],\n",
       "       [3, 6, 9]])"
      ]
     },
     "execution_count": 37,
     "metadata": {},
     "output_type": "execute_result"
    }
   ],
   "source": [
    "# vector matrix\n",
    "\n",
    "v1 = np.array([[1], [2], [3]])\n",
    "v2 = np.array([[4], [5], [6]])\n",
    "v3 = np.array([[7], [8], [9]])\n",
    "\n",
    "vectorMatrix = np.column_stack([v1, v2, v3])\n",
    "\n",
    "vectorMatrix"
   ]
  },
  {
   "cell_type": "code",
   "execution_count": 39,
   "metadata": {},
   "outputs": [
    {
     "data": {
      "text/plain": [
       "array([[30],\n",
       "       [36],\n",
       "       [42]])"
      ]
     },
     "execution_count": 39,
     "metadata": {},
     "output_type": "execute_result"
    }
   ],
   "source": [
    "# linear combination\n",
    "\n",
    "w = np.array([[1], [2], [3]])\n",
    "\n",
    "vectorMatrix @ w"
   ]
  },
  {
   "cell_type": "code",
   "execution_count": 38,
   "metadata": {},
   "outputs": [
    {
     "data": {
      "text/plain": [
       "array([[0.5],\n",
       "       [1. ],\n",
       "       [1.5]])"
      ]
     },
     "execution_count": 38,
     "metadata": {},
     "output_type": "execute_result"
    }
   ],
   "source": [
    "lambda1 = 0.5\n",
    "\n",
    "vectorMatrix @ np.array([[lambda1], [0], [0]])"
   ]
  },
  {
   "cell_type": "code",
   "execution_count": 45,
   "metadata": {},
   "outputs": [
    {
     "data": {
      "text/plain": [
       "array([[3.6],\n",
       "       [8.1]])"
      ]
     },
     "execution_count": 45,
     "metadata": {},
     "output_type": "execute_result"
    }
   ],
   "source": [
    "# 여러 벡터에 대한 가중합 동시 계산\n",
    "\n",
    "x1 = np.array([[1], [2], [3]])\n",
    "x2 = np.array([[4], [5], [6]])\n",
    "w = np.array([[0.2], [0.5], [0.8]])\n",
    "\n",
    "np.vstack([x1.T, x2.T]) @ w"
   ]
  },
  {
   "cell_type": "code",
   "execution_count": null,
   "metadata": {},
   "outputs": [],
   "source": []
  }
 ],
 "metadata": {
  "kernelspec": {
   "display_name": "Python 3",
   "language": "python",
   "name": "python3"
  },
  "language_info": {
   "codemirror_mode": {
    "name": "ipython",
    "version": 3
   },
   "file_extension": ".py",
   "mimetype": "text/x-python",
   "name": "python",
   "nbconvert_exporter": "python",
   "pygments_lexer": "ipython3",
   "version": "3.7.5"
  }
 },
 "nbformat": 4,
 "nbformat_minor": 2
}
